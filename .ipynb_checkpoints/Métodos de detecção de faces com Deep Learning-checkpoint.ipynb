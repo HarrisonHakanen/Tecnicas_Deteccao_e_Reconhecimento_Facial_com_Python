{
 "cells": [
  {
   "cell_type": "code",
   "execution_count": 3,
   "id": "4a9fa148-ffc0-4329-947f-d25a784b4866",
   "metadata": {},
   "outputs": [],
   "source": [
    "import cv2\n",
    "import numpy as np\n",
    "import os\n",
    "import dlib"
   ]
  },
  {
   "cell_type": "code",
   "execution_count": null,
   "id": "52dfd16a-ee97-4420-bfd5-8e7c85b4fa21",
   "metadata": {},
   "outputs": [],
   "source": []
  },
  {
   "cell_type": "code",
   "execution_count": 2,
   "id": "924aa835-68f8-4a71-b087-5c5f57b96454",
   "metadata": {},
   "outputs": [],
   "source": [
    "detector_fase = dlib.get_frontal_face_detector()\n",
    "detector_pontos = dlib.shape_predictor(\"'Materiais\\\\weights\\\\weights\\\\shape_predictor_68_face_landmarks\")"
   ]
  },
  {
   "cell_type": "code",
   "execution_count": null,
   "id": "6edd2272-2d1e-4234-a0ce-2cd3b8b15854",
   "metadata": {},
   "outputs": [],
   "source": [
    "imagem = cv2.imread('Materiais\\\\images\\\\images\\\\people2.jpg')\n",
    "\n",
    "deteccoes_faces = detector_face(imagem,1)\n",
    "\n",
    "for face in deteccoes_face:\n",
    "\n",
    "    pontos = detector_pontos(imagem,face)\n",
    "\n",
    "    for ponto in pontos.parts():\n",
    "        cv2.circle(imagem,(ponto.x,ponto.y),2,(0,255,0),1)\n",
    "\n",
    "    print(len(pontos.parts()),pontos.parts())\n",
    "\n",
    "    l, t, r, b = face.left(), face.top(), face.right(), face.bottom()\n",
    "\n",
    "    cv2.rectangle(imagem,(l,t),(r,b),(0,255,255),2)\n",
    "\n",
    "cv2.imshow(imagem)\n",
    "\n"
   ]
  },
  {
   "cell_type": "code",
   "execution_count": null,
   "id": "d12199e5-8e46-474a-ae8f-61ef0c568144",
   "metadata": {},
   "outputs": [],
   "source": []
  }
 ],
 "metadata": {
  "kernelspec": {
   "display_name": "Python 3 (ipykernel)",
   "language": "python",
   "name": "python3"
  },
  "language_info": {
   "codemirror_mode": {
    "name": "ipython",
    "version": 3
   },
   "file_extension": ".py",
   "mimetype": "text/x-python",
   "name": "python",
   "nbconvert_exporter": "python",
   "pygments_lexer": "ipython3",
   "version": "3.11.5"
  }
 },
 "nbformat": 4,
 "nbformat_minor": 5
}
