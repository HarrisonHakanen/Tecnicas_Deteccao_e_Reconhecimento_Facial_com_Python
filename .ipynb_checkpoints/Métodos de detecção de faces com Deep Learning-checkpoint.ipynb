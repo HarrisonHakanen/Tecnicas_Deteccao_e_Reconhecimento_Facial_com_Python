{
 "cells": [
  {
   "cell_type": "code",
   "execution_count": 95,
   "id": "4a9fa148-ffc0-4329-947f-d25a784b4866",
   "metadata": {},
   "outputs": [],
   "source": [
    "import cv2\n",
    "import numpy as np\n",
    "import os\n",
    "import dlib\n",
    "import time\n",
    "import pickle\n",
    "\n",
    "\n",
    "def extrai_descritor(face,imagem_np,descritores_face):\n",
    "\n",
    "    \n",
    "    l,t,r,b = face.left(),face.top(),face.right(),face.bottom()\n",
    "    pontos = detector_pontos(imagem_np,face)\n",
    "\n",
    "    for ponto in pontos.parts():\n",
    "        cv2.circle(imagem_np,(ponto.x,ponto.y),2,(0,255,0),1)\n",
    "\n",
    "    descritor_face = extrator_descritor_facial.compute_face_descriptor(imagem_np,pontos)\n",
    "    descritor_face = [f for f in descritor_face]\n",
    "    descritor_face = np.asarray(descritor_face,dtype=np.float64)\n",
    "    descritor_face = descritor_face[np.newaxis,:]\n",
    "\n",
    "    if descritores_face is None:\n",
    "        descritores_face = descritor_face\n",
    "        \n",
    "    else:\n",
    "        descritores_face = np.concatenate((descritores_face,descritor_face),axis=0)\n",
    "        \n",
    "\n",
    "    return imagem_np, descritores_face\n",
    "\n",
    "\n",
    "def carrega_treinamento(path_dataset):\n",
    "\n",
    "    index = {}\n",
    "    idx = 0\n",
    "    descritores_faces = None\n",
    "\n",
    "    paths = [os.path.join(path_dataset,f) for f in os.listdir(path_dataset)]\n",
    "\n",
    "    for path in paths:\n",
    "        \n",
    "        imagem = cv2.imread(path)                \n",
    "        \n",
    "        for face in deteccoes_faces:\n",
    "                     \n",
    "            imagem_np, descritores_faces = extrai_descritor(face,imagem,descritores_faces) \n",
    "            print(descritores_faces.shape)\n",
    "            index[idx] = path\n",
    "            idx+=1\n",
    "\n",
    "    return descritores_faces, index\n",
    "\n"
   ]
  },
  {
   "cell_type": "code",
   "execution_count": null,
   "id": "ca617975-2840-4d92-8644-0806c3d066f7",
   "metadata": {},
   "outputs": [],
   "source": []
  },
  {
   "cell_type": "code",
   "execution_count": null,
   "id": "cafb5e00-a09c-418e-9256-79babd488d46",
   "metadata": {},
   "outputs": [],
   "source": []
  },
  {
   "cell_type": "code",
   "execution_count": null,
   "id": "af52eb2b-f2de-450c-904a-9d75f286fe58",
   "metadata": {},
   "outputs": [],
   "source": []
  },
  {
   "cell_type": "code",
   "execution_count": null,
   "id": "af165c56-fef6-463d-90c8-e8e4175566bb",
   "metadata": {},
   "outputs": [],
   "source": []
  },
  {
   "cell_type": "code",
   "execution_count": null,
   "id": "506cca06-0730-487f-b9bb-a3038af072b5",
   "metadata": {},
   "outputs": [],
   "source": []
  },
  {
   "cell_type": "code",
   "execution_count": null,
   "id": "a99c2d19-731d-44a2-9205-eea0fcc5e786",
   "metadata": {},
   "outputs": [],
   "source": []
  },
  {
   "cell_type": "code",
   "execution_count": null,
   "id": "5ef68bd2-3675-48fe-9f63-8b321f9d64be",
   "metadata": {},
   "outputs": [],
   "source": []
  },
  {
   "cell_type": "code",
   "execution_count": null,
   "id": "47cc732b-cce5-44e0-989b-9a143b787f18",
   "metadata": {},
   "outputs": [],
   "source": []
  },
  {
   "cell_type": "code",
   "execution_count": 65,
   "id": "924aa835-68f8-4a71-b087-5c5f57b96454",
   "metadata": {},
   "outputs": [],
   "source": [
    "detector_face = dlib.get_frontal_face_detector()\n",
    "detector_pontos = dlib.shape_predictor(\"Materiais\\\\weights\\\\weights\\\\shape_predictor_68_face_landmarks.dat\")\n",
    "extrator_descritor_facial = dlib.face_recognition_model_v1('Materiais\\\\weights\\\\weights\\\\dlib_face_recognition_resnet_model_v1.dat')"
   ]
  },
  {
   "cell_type": "code",
   "execution_count": null,
   "id": "c4571d6e-b945-4218-a562-3783692bd013",
   "metadata": {},
   "outputs": [],
   "source": []
  },
  {
   "cell_type": "code",
   "execution_count": null,
   "id": "cf420635-7f2d-4109-8b2f-55f76e6a697a",
   "metadata": {},
   "outputs": [],
   "source": []
  },
  {
   "cell_type": "code",
   "execution_count": 4,
   "id": "6edd2272-2d1e-4234-a0ce-2cd3b8b15854",
   "metadata": {},
   "outputs": [],
   "source": [
    "imagem = cv2.imread('Materiais\\\\images\\\\images\\\\people2.jpg')\n",
    "\n",
    "deteccoes_faces = detector_face(imagem,1)\n",
    "\n",
    "for face in deteccoes_faces:\n",
    "\n",
    "    pontos = detector_pontos(imagem,face)\n",
    "\n",
    "    for ponto in pontos.parts():\n",
    "        cv2.circle(imagem,(ponto.x,ponto.y),2,(0,255,0),1)\n",
    "\n",
    "    l, t, r, b = face.left(), face.top(), face.right(), face.bottom()\n",
    "\n",
    "    cv2.rectangle(imagem,(l,t),(r,b),(0,255,255),2)\n",
    "\n",
    "cv2.imshow(\"Rostos\",imagem)\n",
    "\n",
    "cv2.waitKey(0) \n",
    "cv2.destroyAllWindows()  "
   ]
  },
  {
   "cell_type": "code",
   "execution_count": null,
   "id": "4d990898-93dd-424c-baff-dab775de3663",
   "metadata": {},
   "outputs": [],
   "source": []
  },
  {
   "cell_type": "code",
   "execution_count": 42,
   "id": "9be70607-fcef-4c97-9b30-2443d0cf38eb",
   "metadata": {},
   "outputs": [],
   "source": [
    "imagem_teste = \"Materiais\\\\datasets\\\\datasets\\\\FaceDataset\\\\test\\\\1-11.jpg\"\n",
    "imagem = cv2.imread(imagem_teste)\n",
    "\n",
    "imagem_cinza = cv2.cvtColor(imagem,cv2.COLOR_BGR2GRAY)\n",
    "\n",
    "\n",
    "deteccoes_faces = detector_face(imagem_cinza,1)\n",
    "\n",
    "for face in deteccoes_faces:\n",
    "\n",
    "    l,t,r,b = face.left(),face.top(),face.right(),face.bottom()\n",
    "\n",
    "    pontos = detector_pontos(imagem_cinza,face)\n",
    "\n",
    "    for ponto in pontos.parts():\n",
    "        cv2.circle(imagem,(ponto.x,ponto.y),2,(0,255,0),1)\n",
    "\n",
    "    \n",
    "    cv2.rectangle(imagem,(l,t),(r,b),(0,0,255),2)\n",
    "\n",
    "    descritor_face = extrator_descritor_facial.compute_face_descriptor(imagem,pontos)\n",
    "\n",
    "    descritor_face = [f for f in descritor_face]\n",
    "\n",
    "    descritor_face = np.asarray(descritor_face,np.float64)\n",
    "\n",
    "    descritor_face = descritor_face[np.newaxis,:]\n",
    "\n",
    "    \n",
    "\n",
    "cv2.imshow(\"Teste\",imagem)\n",
    "\n",
    "cv2.waitKey(0) \n",
    "cv2.destroyAllWindows()"
   ]
  },
  {
   "cell_type": "code",
   "execution_count": null,
   "id": "aef01d1b-4b1f-42da-b57c-f982adcea58c",
   "metadata": {},
   "outputs": [],
   "source": []
  },
  {
   "cell_type": "code",
   "execution_count": null,
   "id": "30f37a0d-418d-4428-b80d-96cce9af9f3a",
   "metadata": {},
   "outputs": [
    {
     "name": "stdout",
     "output_type": "stream",
     "text": [
      "(1, 128)\n",
      "(2, 128)\n",
      "(3, 128)\n",
      "(4, 128)\n",
      "(5, 128)\n",
      "(6, 128)\n",
      "(7, 128)\n",
      "(8, 128)\n",
      "(9, 128)\n",
      "(10, 128)\n",
      "(11, 128)\n",
      "(12, 128)\n",
      "(13, 128)\n",
      "(14, 128)\n",
      "(15, 128)\n",
      "(16, 128)\n",
      "(17, 128)\n",
      "(18, 128)\n",
      "(19, 128)\n",
      "(20, 128)\n",
      "(21, 128)\n",
      "(22, 128)\n",
      "(23, 128)\n",
      "(24, 128)\n",
      "(25, 128)\n",
      "(26, 128)\n",
      "(27, 128)\n",
      "(28, 128)\n",
      "(29, 128)\n",
      "(30, 128)\n",
      "(31, 128)\n",
      "(32, 128)\n",
      "(33, 128)\n",
      "(34, 128)\n",
      "(35, 128)\n",
      "(36, 128)\n",
      "(37, 128)\n",
      "(38, 128)\n",
      "(39, 128)\n",
      "(40, 128)\n",
      "(41, 128)\n",
      "(42, 128)\n",
      "(43, 128)\n",
      "(44, 128)\n",
      "(45, 128)\n",
      "(46, 128)\n",
      "(47, 128)\n"
     ]
    }
   ],
   "source": [
    "descritores_face, index = carrega_treinamento('Materiais\\datasets\\\\datasets\\\\FaceDataset\\\\train')"
   ]
  },
  {
   "cell_type": "code",
   "execution_count": null,
   "id": "0d2f43a2-0017-49d0-9991-ca68481cfbd7",
   "metadata": {},
   "outputs": [],
   "source": []
  },
  {
   "cell_type": "code",
   "execution_count": null,
   "id": "222dd564-3874-444a-b828-4a0ec9f7f000",
   "metadata": {},
   "outputs": [],
   "source": []
  },
  {
   "cell_type": "code",
   "execution_count": null,
   "id": "e234c32e-ab9c-4265-9742-dc85d4e74526",
   "metadata": {},
   "outputs": [],
   "source": []
  },
  {
   "cell_type": "code",
   "execution_count": null,
   "id": "48ab74c0-c9ee-484e-bbe0-031966b4c2fd",
   "metadata": {},
   "outputs": [],
   "source": []
  },
  {
   "cell_type": "code",
   "execution_count": null,
   "id": "a9354359-1e5c-454d-9853-dd2ccf829c82",
   "metadata": {},
   "outputs": [],
   "source": []
  },
  {
   "cell_type": "code",
   "execution_count": null,
   "id": "aa113909-ad78-4fe1-bb95-273c4b9a4ec6",
   "metadata": {},
   "outputs": [],
   "source": []
  },
  {
   "cell_type": "code",
   "execution_count": null,
   "id": "f6a79245-9715-4e63-8800-899fe25d3ef7",
   "metadata": {},
   "outputs": [],
   "source": []
  },
  {
   "cell_type": "code",
   "execution_count": null,
   "id": "93bea01b-6bc3-42db-963d-5bc7618cf3ee",
   "metadata": {},
   "outputs": [],
   "source": []
  },
  {
   "cell_type": "code",
   "execution_count": null,
   "id": "68e886f7-441d-42bb-9592-68df0d84cac8",
   "metadata": {},
   "outputs": [],
   "source": []
  },
  {
   "cell_type": "code",
   "execution_count": null,
   "id": "9306fc1c-bd57-4837-9ea2-550c9a160f62",
   "metadata": {},
   "outputs": [],
   "source": []
  },
  {
   "cell_type": "code",
   "execution_count": null,
   "id": "f58dcbb7-4aa8-4ca2-83c0-efa8e4c96a93",
   "metadata": {},
   "outputs": [],
   "source": []
  },
  {
   "cell_type": "code",
   "execution_count": null,
   "id": "e54b112e-755c-4c7f-8624-186d67201129",
   "metadata": {},
   "outputs": [],
   "source": []
  },
  {
   "cell_type": "code",
   "execution_count": null,
   "id": "101767b9-ccce-4a60-8f00-91360d2e867a",
   "metadata": {},
   "outputs": [],
   "source": []
  },
  {
   "cell_type": "code",
   "execution_count": null,
   "id": "b2b79503-48f8-428b-8f55-85803d95f7e2",
   "metadata": {},
   "outputs": [],
   "source": []
  },
  {
   "cell_type": "code",
   "execution_count": null,
   "id": "ed7522cb-b134-4f81-bcd5-685b582c3326",
   "metadata": {},
   "outputs": [],
   "source": []
  },
  {
   "cell_type": "code",
   "execution_count": null,
   "id": "56dc7320-5371-4634-8271-ec4c518d0f29",
   "metadata": {},
   "outputs": [],
   "source": []
  },
  {
   "cell_type": "code",
   "execution_count": null,
   "id": "1c45364f-c73e-45bd-8d7e-76c4287783b6",
   "metadata": {},
   "outputs": [],
   "source": []
  },
  {
   "cell_type": "code",
   "execution_count": null,
   "id": "0843620f-5e93-4ea6-b0fa-60a9a6c89592",
   "metadata": {},
   "outputs": [],
   "source": []
  },
  {
   "cell_type": "code",
   "execution_count": null,
   "id": "13059e7f-7b4e-4426-8f95-4cd202d134dd",
   "metadata": {},
   "outputs": [],
   "source": []
  },
  {
   "cell_type": "code",
   "execution_count": null,
   "id": "1a5a2fa0-f33c-42a5-a5f5-49e54e501aa2",
   "metadata": {},
   "outputs": [],
   "source": []
  },
  {
   "cell_type": "code",
   "execution_count": null,
   "id": "f782d747-ff22-4972-a017-a63de4cdaf76",
   "metadata": {},
   "outputs": [],
   "source": []
  },
  {
   "cell_type": "code",
   "execution_count": null,
   "id": "f0825a7d-4520-4483-b9aa-896c76b3b8a7",
   "metadata": {},
   "outputs": [],
   "source": []
  },
  {
   "cell_type": "code",
   "execution_count": 67,
   "id": "da8e3c38-3b93-44ff-b675-efd456364d43",
   "metadata": {},
   "outputs": [],
   "source": [
    "'''Salva o modelo'''\n",
    "np.save('descritores_faces.npy',descritores_face)\n",
    "\n",
    "with open('index_faces.pickle','wb') as f:\n",
    "    pickle.dump(index,f)\n",
    "    "
   ]
  },
  {
   "cell_type": "code",
   "execution_count": null,
   "id": "76741b48-69f5-473a-81b2-f8d20106efba",
   "metadata": {},
   "outputs": [],
   "source": []
  },
  {
   "cell_type": "code",
   "execution_count": null,
   "id": "acacb536-9528-4708-9c9f-20b1f35cd578",
   "metadata": {},
   "outputs": [],
   "source": []
  },
  {
   "cell_type": "code",
   "execution_count": 68,
   "id": "d9455404-88df-4c3e-a2af-722259e758a7",
   "metadata": {},
   "outputs": [],
   "source": [
    "'''Carrega o modelo'''\n",
    "descritores_faces = np.load('descritores_faces.npy')\n",
    "index = np.load('index_faces.pickle',allow_pickle=True)"
   ]
  },
  {
   "cell_type": "code",
   "execution_count": 69,
   "id": "90604446-8d7f-409e-85ed-cc78e8f2ade3",
   "metadata": {},
   "outputs": [
    {
     "data": {
      "text/plain": [
       "(1, 181)"
      ]
     },
     "execution_count": 69,
     "metadata": {},
     "output_type": "execute_result"
    }
   ],
   "source": [
    "len(descritores_faces),len(index)"
   ]
  },
  {
   "cell_type": "code",
   "execution_count": null,
   "id": "1f5344c0-ed37-40a9-87a6-82d7dc00ba20",
   "metadata": {},
   "outputs": [],
   "source": []
  },
  {
   "cell_type": "code",
   "execution_count": null,
   "id": "5a20a443-73e3-4867-b170-816a93335f3b",
   "metadata": {},
   "outputs": [],
   "source": []
  },
  {
   "cell_type": "code",
   "execution_count": null,
   "id": "e7bbf4bd-5504-42a3-8f50-d0a1ab92afac",
   "metadata": {},
   "outputs": [],
   "source": []
  },
  {
   "cell_type": "code",
   "execution_count": null,
   "id": "38ff2bcb-e685-48d3-bfe2-176409d0e1cc",
   "metadata": {},
   "outputs": [],
   "source": []
  },
  {
   "cell_type": "code",
   "execution_count": null,
   "id": "2fb46aec-e500-4bee-aba2-c50bb01f0099",
   "metadata": {},
   "outputs": [],
   "source": []
  },
  {
   "cell_type": "code",
   "execution_count": null,
   "id": "dd43c10a-6721-4d99-97d6-0f655a34e535",
   "metadata": {},
   "outputs": [],
   "source": []
  },
  {
   "cell_type": "code",
   "execution_count": null,
   "id": "1523f27d-1726-413e-a452-62d2fadbaea2",
   "metadata": {},
   "outputs": [],
   "source": []
  },
  {
   "cell_type": "code",
   "execution_count": null,
   "id": "1ec285be-9fef-43e6-8074-4e4fdf727a2c",
   "metadata": {},
   "outputs": [],
   "source": []
  }
 ],
 "metadata": {
  "kernelspec": {
   "display_name": "Python 3 (ipykernel)",
   "language": "python",
   "name": "python3"
  },
  "language_info": {
   "codemirror_mode": {
    "name": "ipython",
    "version": 3
   },
   "file_extension": ".py",
   "mimetype": "text/x-python",
   "name": "python",
   "nbconvert_exporter": "python",
   "pygments_lexer": "ipython3",
   "version": "3.11.5"
  }
 },
 "nbformat": 4,
 "nbformat_minor": 5
}
