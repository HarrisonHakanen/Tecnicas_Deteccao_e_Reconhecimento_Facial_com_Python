{
 "cells": [
  {
   "cell_type": "code",
   "execution_count": 1,
   "id": "4a9fa148-ffc0-4329-947f-d25a784b4866",
   "metadata": {},
   "outputs": [],
   "source": [
    "import cv2\n",
    "import numpy as np\n",
    "import os\n",
    "import dlib"
   ]
  },
  {
   "cell_type": "code",
   "execution_count": null,
   "id": "b07262b0-cde1-4735-9d52-9df2ec45f446",
   "metadata": {},
   "outputs": [],
   "source": []
  },
  {
   "cell_type": "code",
   "execution_count": null,
   "id": "52dfd16a-ee97-4420-bfd5-8e7c85b4fa21",
   "metadata": {},
   "outputs": [],
   "source": []
  },
  {
   "cell_type": "code",
   "execution_count": 7,
   "id": "924aa835-68f8-4a71-b087-5c5f57b96454",
   "metadata": {},
   "outputs": [],
   "source": [
    "detector_face = dlib.get_frontal_face_detector()\n",
    "detector_pontos = dlib.shape_predictor(\"Materiais\\\\weights\\\\weights\\\\shape_predictor_68_face_landmarks.dat\")"
   ]
  },
  {
   "cell_type": "code",
   "execution_count": null,
   "id": "cf420635-7f2d-4109-8b2f-55f76e6a697a",
   "metadata": {},
   "outputs": [],
   "source": []
  },
  {
   "cell_type": "code",
   "execution_count": 10,
   "id": "6edd2272-2d1e-4234-a0ce-2cd3b8b15854",
   "metadata": {},
   "outputs": [
    {
     "name": "stdout",
     "output_type": "stream",
     "text": [
      "68 points[(64, 204), (65, 212), (68, 219), (71, 227), (76, 233), (82, 239), (89, 243), (97, 247), (106, 246), (113, 243), (120, 236), (124, 229), (128, 220), (129, 212), (129, 204), (127, 195), (125, 187), (66, 197), (69, 193), (73, 190), (79, 190), (84, 190), (94, 187), (99, 184), (104, 181), (110, 181), (116, 183), (90, 194), (91, 198), (92, 202), (93, 206), (89, 212), (92, 212), (96, 212), (99, 210), (102, 208), (73, 201), (76, 199), (79, 198), (84, 198), (80, 199), (77, 201), (100, 193), (103, 191), (107, 190), (111, 190), (107, 191), (104, 192), (84, 223), (88, 219), (94, 216), (98, 216), (102, 214), (109, 214), (115, 215), (112, 225), (106, 230), (101, 232), (97, 232), (90, 231), (86, 223), (94, 218), (99, 218), (103, 216), (114, 216), (104, 226), (100, 227), (95, 228)]\n",
      "68 points[(222, 161), (224, 168), (226, 175), (228, 183), (232, 190), (237, 195), (245, 199), (253, 202), (262, 202), (270, 199), (277, 194), (282, 188), (286, 180), (287, 172), (287, 163), (286, 155), (284, 147), (225, 151), (228, 147), (233, 145), (238, 144), (243, 144), (255, 142), (259, 139), (264, 137), (270, 138), (275, 140), (250, 150), (251, 155), (252, 160), (253, 166), (248, 170), (252, 170), (255, 171), (258, 169), (262, 167), (231, 156), (234, 155), (238, 154), (242, 155), (238, 155), (235, 156), (260, 151), (263, 148), (266, 148), (270, 148), (267, 149), (263, 150), (241, 181), (246, 177), (252, 175), (257, 175), (261, 173), (268, 173), (274, 175), (270, 183), (264, 187), (259, 188), (254, 189), (247, 187), (243, 181), (253, 177), (258, 177), (262, 176), (273, 176), (263, 183), (258, 184), (253, 185)]\n",
      "68 points[(397, 182), (398, 190), (400, 198), (403, 206), (407, 214), (413, 220), (420, 226), (429, 230), (439, 230), (449, 227), (457, 222), (463, 214), (467, 204), (469, 195), (469, 186), (469, 177), (468, 168), (400, 173), (404, 170), (409, 168), (415, 168), (421, 169), (433, 167), (439, 163), (444, 161), (451, 160), (457, 162), (428, 172), (429, 177), (430, 181), (431, 186), (424, 191), (428, 192), (432, 192), (436, 190), (440, 189), (407, 179), (410, 177), (414, 176), (419, 177), (415, 178), (411, 179), (439, 173), (443, 171), (447, 170), (452, 170), (448, 171), (444, 172), (416, 204), (422, 199), (429, 196), (434, 196), (439, 195), (447, 195), (455, 198), (449, 207), (442, 212), (436, 213), (430, 213), (423, 211), (418, 204), (429, 199), (435, 199), (440, 198), (453, 199), (441, 206), (435, 208), (430, 208)]\n"
     ]
    }
   ],
   "source": [
    "imagem = cv2.imread('Materiais\\\\images\\\\images\\\\people2.jpg')\n",
    "\n",
    "deteccoes_faces = detector_face(imagem,1)\n",
    "\n",
    "for face in deteccoes_faces:\n",
    "\n",
    "    pontos = detector_pontos(imagem,face)\n",
    "\n",
    "    for ponto in pontos.parts():\n",
    "        cv2.circle(imagem,(ponto.x,ponto.y),2,(0,255,0),1)\n",
    "\n",
    "    print(len(pontos.parts()),pontos.parts())\n",
    "\n",
    "    l, t, r, b = face.left(), face.top(), face.right(), face.bottom()\n",
    "\n",
    "    cv2.rectangle(imagem,(l,t),(r,b),(0,255,255),2)\n",
    "\n",
    "cv2.imshow(\"Rostos\",imagem)\n",
    "\n",
    "cv2.waitKey(0) \n",
    "cv2.destroyAllWindows()  "
   ]
  },
  {
   "cell_type": "code",
   "execution_count": null,
   "id": "e1657edc-5f79-4840-bb3f-34363ffe511b",
   "metadata": {},
   "outputs": [],
   "source": []
  },
  {
   "cell_type": "code",
   "execution_count": null,
   "id": "944f2d5e-5f7e-4e56-ba7f-76ab617cb4ee",
   "metadata": {},
   "outputs": [],
   "source": []
  },
  {
   "cell_type": "code",
   "execution_count": null,
   "id": "6a3ca951-c845-4fa8-9d49-9ebfbe33a4f2",
   "metadata": {},
   "outputs": [],
   "source": []
  },
  {
   "cell_type": "code",
   "execution_count": null,
   "id": "061b5fab-0039-4733-91d8-c1c784584dba",
   "metadata": {},
   "outputs": [],
   "source": []
  },
  {
   "cell_type": "code",
   "execution_count": null,
   "id": "d12199e5-8e46-474a-ae8f-61ef0c568144",
   "metadata": {},
   "outputs": [],
   "source": []
  }
 ],
 "metadata": {
  "kernelspec": {
   "display_name": "Python 3 (ipykernel)",
   "language": "python",
   "name": "python3"
  },
  "language_info": {
   "codemirror_mode": {
    "name": "ipython",
    "version": 3
   },
   "file_extension": ".py",
   "mimetype": "text/x-python",
   "name": "python",
   "nbconvert_exporter": "python",
   "pygments_lexer": "ipython3",
   "version": "3.11.5"
  }
 },
 "nbformat": 4,
 "nbformat_minor": 5
}
