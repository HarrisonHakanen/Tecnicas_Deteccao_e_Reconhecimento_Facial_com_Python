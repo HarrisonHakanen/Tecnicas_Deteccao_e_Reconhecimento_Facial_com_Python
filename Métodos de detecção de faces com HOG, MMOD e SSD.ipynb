{
 "cells": [
  {
   "cell_type": "code",
   "execution_count": 82,
   "id": "e59ba2da-fb27-48be-b2c8-856060e9259b",
   "metadata": {},
   "outputs": [],
   "source": [
    "import dlib\n",
    "import cv2\n",
    "import numpy as np"
   ]
  },
  {
   "cell_type": "code",
   "execution_count": null,
   "id": "80bad917-b891-42f5-b974-1df885b54f30",
   "metadata": {},
   "outputs": [],
   "source": []
  },
  {
   "cell_type": "code",
   "execution_count": null,
   "id": "6d789baa-bf2d-45d4-9b16-21752dcf57a8",
   "metadata": {},
   "outputs": [],
   "source": []
  },
  {
   "cell_type": "code",
   "execution_count": 31,
   "id": "8d3f6365-7f66-4a00-83e4-1545cd0e9369",
   "metadata": {},
   "outputs": [],
   "source": [
    "imagem = cv2.imread('Materiais\\\\images\\\\images\\\\people1.jpg')\n",
    "\n",
    "imagem = cv2.resize(imagem,(600,400))\n",
    "\n",
    "\n",
    "detector_face_hog = dlib.get_frontal_face_detector()\n",
    "deteccoes = detector_face_hog(imagem)\n",
    "\n",
    "\n",
    "for face in deteccoes:\n",
    "\n",
    "    l,t,r,b = face.left(),face.top(),face.right(),face.bottom()\n",
    "\n",
    "    cv2.rectangle(imagem,(l,t),(r,b),(0,255,255),2)\n",
    "\n",
    "cv2.imshow(\"Rostos reconhecidos\",imagem)\n",
    "\n",
    "cv2.waitKey(0) \n",
    "cv2.destroyAllWindows()    "
   ]
  },
  {
   "cell_type": "code",
   "execution_count": null,
   "id": "7f6cef9d-aedb-45d7-b8bb-de01fdcb1a8e",
   "metadata": {},
   "outputs": [],
   "source": []
  },
  {
   "cell_type": "code",
   "execution_count": null,
   "id": "b986ad67-226f-436e-a0af-81d47a09fa34",
   "metadata": {},
   "outputs": [],
   "source": []
  },
  {
   "cell_type": "raw",
   "id": "cd6760f1-14e0-4498-893c-bc611f3ebc8b",
   "metadata": {},
   "source": [
    "Parâmetro upsampling"
   ]
  },
  {
   "cell_type": "code",
   "execution_count": 35,
   "id": "4bd0f70e-7b33-4ce1-8668-ca8b91c4eede",
   "metadata": {},
   "outputs": [],
   "source": [
    "'''\n",
    "Utilizando parametros upsampling no detector_face_hog\n",
    "'''\n",
    "\n",
    "\n",
    "imagem = cv2.imread('Materiais\\\\images\\\\images\\\\people3.jpg')\n",
    "\n",
    "imagem_original = imagem.copy()\n",
    "\n",
    "\n",
    "detector_face_hog = dlib.get_frontal_face_detector()\n",
    "deteccoes = detector_face_hog(imagem,3)\n",
    "\n",
    "\n",
    "for face in deteccoes:\n",
    "\n",
    "    l,t,r,b = face.left(),face.top(),face.right(),face.bottom()\n",
    "\n",
    "    cv2.rectangle(imagem,(l,t),(r,b),(0,255,255),2)\n",
    "\n",
    "cv2.imshow(\"Rostos reconhecidos\",imagem)\n",
    "\n",
    "cv2.waitKey(0) \n",
    "cv2.destroyAllWindows()    "
   ]
  },
  {
   "cell_type": "code",
   "execution_count": 41,
   "id": "ecc33770-fa7d-4a92-a93b-3274d2731220",
   "metadata": {},
   "outputs": [],
   "source": [
    "'''\n",
    "NÃO CONSEGUE RECONHECER ROSTOS DE PERFIL\n",
    "'''\n",
    "\n",
    "imagem = cv2.imread('Materiais\\\\images\\\\images\\\\people5.jpg')\n",
    "\n",
    "imagem_original = imagem.copy()\n",
    "\n",
    "\n",
    "detector_face_hog = dlib.get_frontal_face_detector()\n",
    "deteccoes = detector_face_hog(imagem,2)\n",
    "\n",
    "\n",
    "for face in deteccoes:\n",
    "\n",
    "    l,t,r,b = face.left(),face.top(),face.right(),face.bottom()\n",
    "\n",
    "    cv2.rectangle(imagem,(l,t),(r,b),(0,255,255),2)\n",
    "\n",
    "cv2.imshow(\"Rostos reconhecidos\",imagem)\n",
    "\n",
    "cv2.waitKey(0) \n",
    "cv2.destroyAllWindows()  "
   ]
  },
  {
   "cell_type": "code",
   "execution_count": null,
   "id": "d21dbf41-67e9-4450-ae85-7c93deb79dfc",
   "metadata": {},
   "outputs": [],
   "source": []
  },
  {
   "cell_type": "code",
   "execution_count": null,
   "id": "f0c9d06d-b81a-468e-ab87-c4e675ab2052",
   "metadata": {},
   "outputs": [],
   "source": []
  },
  {
   "cell_type": "raw",
   "id": "dde59bc4-d08c-42a9-a37c-c0191db8d73d",
   "metadata": {},
   "source": [
    "Detecção de faces utilizando o MMOD"
   ]
  },
  {
   "cell_type": "code",
   "execution_count": 65,
   "id": "6f948d29-ecdf-4120-a087-813c134b9917",
   "metadata": {},
   "outputs": [
    {
     "name": "stdout",
     "output_type": "stream",
     "text": [
      "Confiança: 1.0907865762710571\n",
      "Confiança: 1.0883512496948242\n",
      "Confiança: 1.0743160247802734\n",
      "Confiança: 1.0671417713165283\n",
      "Confiança: 1.0584659576416016\n",
      "Confiança: 1.0534759759902954\n",
      "Confiança: 1.051634430885315\n",
      "Confiança: 1.0273172855377197\n"
     ]
    }
   ],
   "source": [
    "imagem = cv2.imread('Materiais\\\\images\\\\images\\\\people3.jpg')\n",
    "\n",
    "imagem = cv2.resize(imagem,(600,400))\n",
    "\n",
    "imagem_cinza = cv2.cvtColor(imagem,cv2.COLOR_BGR2GRAY)\n",
    "\n",
    "detector_cnn_mod = dlib.cnn_face_detection_model_v1('Materiais\\\\weights\\\\weights\\\\mmod_human_face_detector.dat')\n",
    "\n",
    "deteccoes = detector_cnn_mod(imagem_cinza,1)\n",
    "\n",
    "for face in deteccoes:\n",
    "    l,t,r,b,c = face.rect.left(),face.rect.top(),face.rect.right(),face.rect.bottom(),face.confidence\n",
    "\n",
    "    print(\"Confiança: \"+str(c))\n",
    "    cv2.rectangle(imagem,(l,t),(r,b),(255,255,0),2)\n",
    "\n",
    "cv2.imshow(\"Rostos reconhecidos\",imagem)\n",
    "\n",
    "cv2.waitKey(0) \n",
    "cv2.destroyAllWindows()  "
   ]
  },
  {
   "cell_type": "code",
   "execution_count": null,
   "id": "a02ff1ce-980b-4541-8e13-cd2e97e5d831",
   "metadata": {},
   "outputs": [],
   "source": []
  },
  {
   "cell_type": "code",
   "execution_count": null,
   "id": "a8e16ebd-c96b-4be7-a953-4ca3b4f142fb",
   "metadata": {},
   "outputs": [],
   "source": []
  },
  {
   "cell_type": "raw",
   "id": "4a43275c-d151-44e4-98d6-35e227c23c29",
   "metadata": {},
   "source": [
    "Detecção de faces utilizando o SSD"
   ]
  },
  {
   "cell_type": "code",
   "execution_count": 108,
   "id": "b5090ded-96c9-4766-bbe3-7788ee94b14f",
   "metadata": {},
   "outputs": [],
   "source": [
    "def deteccaoSSD(network,imagem_path,tamanho=300,conf_min = 0.4):\n",
    "\n",
    "    imagem = cv2.imread(imagem_path)\n",
    "    \n",
    "    (h,w) = imagem.shape[:2]\n",
    "\n",
    "    blob = cv2.dnn.blobFromImage(cv2.resize(imagem,(tamanho,tamanho)),1.0,(tamanho,tamanho),(104.0,117.0,123.0))\n",
    "    \n",
    "    network.setInput(blob)\n",
    "    \n",
    "    deteccoes = network.forward()\n",
    "\n",
    "    for i in range(0,deteccoes.shape[2]):\n",
    "    \n",
    "        confianca = deteccoes[0,0,i,2]\n",
    "    \n",
    "        if confianca > conf_min:\n",
    "            print(confianca)\n",
    "            text_conf = \"{:2f}%\".format(confianca*100)\n",
    "    \n",
    "            box = deteccoes[0,0,i,3:7]*np.array([w,h,w,h])\n",
    "    \n",
    "            print(box)\n",
    "            (startX,startY,endX,endY) = box.astype(int)\n",
    "    \n",
    "            cv2.rectangle(imagem,(startX,startY),(endX,endY),(0,255,0),2)\n",
    "    \n",
    "            cv2.putText(imagem,text_conf,(startX,startY-10),cv2.FONT_HERSHEY_SIMPLEX,0.5,(0,255,0),2)\n",
    "    \n",
    "    cv2.imshow(\"Rostos detectados\",imagem)\n",
    "    \n",
    "    cv2.waitKey(0) \n",
    "    cv2.destroyAllWindows()  "
   ]
  },
  {
   "cell_type": "code",
   "execution_count": null,
   "id": "ad9de1f1-5ff3-4d2e-8f4d-e2bf2bcbeeb4",
   "metadata": {},
   "outputs": [],
   "source": []
  },
  {
   "cell_type": "code",
   "execution_count": 118,
   "id": "b1290d17-1451-4d1f-ac0b-6dcc0bd5e0e3",
   "metadata": {},
   "outputs": [
    {
     "name": "stdout",
     "output_type": "stream",
     "text": [
      "0.99783295\n",
      "[615.75578928 575.97698933 646.47902977 623.29502517]\n",
      "0.99515116\n",
      "[1043.33450627  512.08544129 1071.73715615  548.93847173]\n",
      "0.994175\n",
      "[455.99981436 417.32919323 484.18550798 458.00350571]\n",
      "0.9885129\n",
      "[687.27308184 262.93634087 716.06399101 301.22364718]\n",
      "0.98687565\n",
      "[692.2451455  378.0104236  722.95169705 416.56739169]\n",
      "0.9866961\n",
      "[762.10161239 574.17294359 794.40616471 610.44063342]\n",
      "0.98494565\n",
      "[595.61161453 497.21376657 625.28262407 535.12901616]\n",
      "0.9845109\n",
      "[810.18362927 301.19895852 839.1404624  336.23926252]\n",
      "0.9836557\n",
      "[467.00175861 265.43150577 493.70055017 299.21637502]\n",
      "0.98347765\n",
      "[117.35766374 395.6877383  145.98189037 433.87376976]\n",
      "0.98255104\n",
      "[192.31229235 488.68791783 226.07085158 535.16756594]\n",
      "0.98200154\n",
      "[1116.77413058  394.68581736 1144.92313612  434.04187667]\n",
      "0.9687076\n",
      "[761.93672287 516.57625741 793.2222842  561.49095243]\n",
      "0.96664166\n",
      "[567.84969592 272.51974171 594.08016264 312.36182696]\n",
      "0.9577919\n",
      "[388.14536548 271.31464103 413.79530525 306.42112371]\n",
      "0.9532882\n",
      "[1087.54827446  254.59850398 1115.29109043  289.114979  ]\n",
      "0.9512714\n",
      "[857.04362935  56.8694091  882.24489862  93.56992055]\n",
      "0.94929034\n",
      "[436.40185767 500.8039366  464.58375835 538.37634516]\n",
      "0.94015825\n",
      "[838.72379053 219.45732182 866.28371775 250.8834672 ]\n",
      "0.93572205\n",
      "[366.31533164 459.90527934 397.0880183  497.54358655]\n",
      "0.9349213\n",
      "[540.03795186 415.76031983 569.33414981 452.02007568]\n",
      "0.93263024\n",
      "[902.92580909 303.01016816 930.30270964 339.27972481]\n",
      "0.93118894\n",
      "[ 53.03589598 262.43171677  80.06827244 295.40685394]\n",
      "0.92091\n",
      "[193.87453602 316.87338808 225.28816085 356.39349398]\n",
      "0.918819\n",
      "[305.86598051 399.09911388 329.57883054 432.51327986]\n",
      "0.91178083\n",
      "[460.11360431  56.70710099 486.49696106  91.99472331]\n",
      "0.9051212\n",
      "[273.50306861  80.31588985 298.9502067  119.49252467]\n",
      "0.9027847\n",
      "[ 991.92249358  323.70099297 1020.53878951  355.23392031]\n",
      "0.8995934\n",
      "[657.18740034  55.94689791 682.78534234  94.04019521]\n",
      "0.88644993\n",
      "[ 980.8183468   174.16722147 1009.02983242  207.68038711]\n",
      "0.86123633\n",
      "[1024.54758394   63.4780888  1053.9581908    89.07020789]\n",
      "0.84194535\n",
      "[183.68636739 213.30760503 207.11571229 249.02491039]\n",
      "0.8162864\n",
      "[753.19757861  72.2784939  778.75993592 104.94030909]\n",
      "0.775883\n",
      "[ 33.87844635 421.1022647   61.45427807 453.92306274]\n",
      "0.631815\n",
      "[565.93932918  75.62356829 591.71716005 112.23545842]\n"
     ]
    }
   ],
   "source": [
    "arquivo_modelo = 'Materiais\\\\weights\\\\weights\\\\res10_300x300_ssd_iter_140000.caffemodel'\n",
    "arquivo_prototxt = 'Materiais\\\\weights\\\\weights\\\\deploy.prototxt.txt'\n",
    "\n",
    "network = cv2.dnn.readNetFromCaffe(arquivo_prototxt,arquivo_modelo)\n",
    "\n",
    "deteccaoSSD(network,'Materiais\\\\images\\\\images\\\\people4.jpg',800,0.5)"
   ]
  },
  {
   "cell_type": "code",
   "execution_count": null,
   "id": "b204fda5-4f32-44de-91ea-8bffaaa1fa03",
   "metadata": {},
   "outputs": [],
   "source": []
  },
  {
   "cell_type": "code",
   "execution_count": null,
   "id": "51210ce7-f108-4d2a-90f0-54ee3ead1246",
   "metadata": {},
   "outputs": [],
   "source": []
  },
  {
   "cell_type": "code",
   "execution_count": null,
   "id": "b4175a8f-41b4-4c32-abe3-8f37e8fdd662",
   "metadata": {},
   "outputs": [],
   "source": []
  },
  {
   "cell_type": "code",
   "execution_count": null,
   "id": "f3f685df-191f-482c-bf3f-e5df975d5405",
   "metadata": {},
   "outputs": [],
   "source": []
  },
  {
   "cell_type": "code",
   "execution_count": null,
   "id": "cbfa7dcf-190f-47f3-93fe-8224b9d92cad",
   "metadata": {},
   "outputs": [],
   "source": []
  }
 ],
 "metadata": {
  "kernelspec": {
   "display_name": "Python 3 (ipykernel)",
   "language": "python",
   "name": "python3"
  },
  "language_info": {
   "codemirror_mode": {
    "name": "ipython",
    "version": 3
   },
   "file_extension": ".py",
   "mimetype": "text/x-python",
   "name": "python",
   "nbconvert_exporter": "python",
   "pygments_lexer": "ipython3",
   "version": "3.11.5"
  }
 },
 "nbformat": 4,
 "nbformat_minor": 5
}
