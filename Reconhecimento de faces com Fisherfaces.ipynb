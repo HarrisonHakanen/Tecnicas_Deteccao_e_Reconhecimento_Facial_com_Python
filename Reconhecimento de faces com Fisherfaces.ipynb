{
 "cells": [
  {
   "cell_type": "code",
   "execution_count": 36,
   "id": "29240f92-7996-4f45-af25-a2d07097d2a2",
   "metadata": {},
   "outputs": [],
   "source": [
    "import cv2\n",
    "import numpy as np\n",
    "import PIL as Image\n",
    "import os\n",
    "\n",
    "\n",
    "def deteccaoSSD(network,imagem_path,tamanho=300,conf_min = 0.4):\n",
    "    \n",
    "    imagem = cv2.imread(imagem_path)\n",
    "    \n",
    "    (h,w) = imagem.shape[:2]\n",
    "\n",
    "    blob = cv2.dnn.blobFromImage(cv2.resize(imagem,(tamanho,tamanho)),1.0,(tamanho,tamanho),(104.0,117.0,123.0))\n",
    "    \n",
    "    network.setInput(blob)\n",
    "    \n",
    "    deteccoes = network.forward()\n",
    "\n",
    "    for i in range(0,deteccoes.shape[2]):\n",
    "    \n",
    "        confianca = deteccoes[0,0,i,2]\n",
    "    \n",
    "        if confianca > conf_min:\n",
    "            \n",
    "            text_conf = \"{:2f}%\".format(confianca*100)\n",
    "    \n",
    "            box = deteccoes[0,0,i,3:7]*np.array([w,h,w,h])    \n",
    "            \n",
    "            (startX,startY,endX,endY) = box.astype(int)\n",
    "\n",
    "            #Copia a área de interesse na imagem\n",
    "            roi = imagem[startY:endY,startX:endX]\n",
    "    \n",
    "            cv2.rectangle(imagem,(startX,startY),(endX,endY),(0,255,0),2)\n",
    "\n",
    "            #Escreve qual a confiança de ser realmente um rosto\n",
    "            #cv2.putText(imagem,text_conf,(startX,startY-10),cv2.FONT_HERSHEY_SIMPLEX,0.5,(0,255,0),2)\n",
    "      \n",
    "    rosto = cv2.resize(roi,(60,80))\n",
    "    rosto = cv2.cvtColor(rosto,cv2.COLOR_BGR2GRAY)\n",
    "    \n",
    "    return rosto, imagem, confianca\n",
    "    \n",
    "\n",
    "def get_image_data():\n",
    "\n",
    "    arquivo_modelo = 'Materiais\\\\weights\\\\weights\\\\res10_300x300_ssd_iter_140000.caffemodel'\n",
    "    arquivo_prototxt = 'Materiais\\\\weights\\\\weights\\\\deploy.prototxt.txt'\n",
    "    network = cv2.dnn.readNetFromCaffe(arquivo_prototxt,arquivo_modelo)\n",
    "\n",
    "    \n",
    "    paths = [os.path.join('Materiais\\\\datasets\\\\datasets\\\\Face dataset\\\\train',f) for f in os.listdir('Materiais\\\\datasets\\\\datasets\\\\Face dataset\\\\train')]\n",
    "\n",
    "    faces = []\n",
    "    ids = []\n",
    "\n",
    "    for path in paths:\n",
    "        \n",
    "        rosto,imagem_original,confianca = deteccaoSSD(network,path,300,0.4) \n",
    "        \n",
    "        id = int(os.path.split(path)[1].split(\"-\")[0])\n",
    "        \n",
    "        ids.append(id)\n",
    "        faces.append(rosto)\n",
    "\n",
    "    return np.array(ids), faces\n",
    "\n",
    "\n",
    "def teste_reconhecimento(imagem_teste):\n",
    "\n",
    "    '''CARREGA MODELO PARA DETECTAR FACES'''\n",
    "    arquivo_modelo = 'Materiais\\\\weights\\\\weights\\\\res10_300x300_ssd_iter_140000.caffemodel'\n",
    "    arquivo_prototxt = 'Materiais\\\\weights\\\\weights\\\\deploy.prototxt.txt'\n",
    "    network = cv2.dnn.readNetFromCaffe(arquivo_prototxt,arquivo_modelo)\n",
    "\n",
    "    '''DETECTA FACES'''\n",
    "    rosto,imagem_original, confianca = deteccaoSSD(network,imagem_teste,300,0.4)\n",
    "\n",
    "    '''CARREGA MODELO PARA RECONHECER FACES'''\n",
    "    fisher_classifier = cv2.face.FisherFaceRecognizer_create()\n",
    "    fisher_classifier.read('fisher.yml')\n",
    "\n",
    "    '''RECONHECE FACES'''\n",
    "    previsao = fisher_classifier.predict(rosto)\n",
    "    saida_esperada = int(os.path.split(imagem_teste)[1].split(\"-\")[0])\n",
    "\n",
    "    prev = \"\"\n",
    "\n",
    "    '''CASO A CONFIANÇA ULTRAPASSE 1000 SIGNIFICA QUE A IMAGEM ESTÁ COM UMA CONFIANÇA BAIXA, LOGO A PREVISÃO SE TORNA INDEFINIDA'''\n",
    "\n",
    "    print(confianca)\n",
    "    if confianca > 1000:\n",
    "        prev = \"INDEFINIDO\"\n",
    "        \n",
    "    else:\n",
    "        prev = str(previsao[0])\n",
    "\n",
    "    \n",
    "    #cv2.putText(imagem_original,'Precisao: '+str(previsao[1]),(10,70),cv2.FONT_HERSHEY_SIMPLEX,0.5,(0,255,0),2)\n",
    "    cv2.putText(imagem_original,'Prev: '+ prev,(10,30),cv2.FONT_HERSHEY_COMPLEX_SMALL,0.8,(0,255,0))\n",
    "    cv2.putText(imagem_original,'Exp: '+ str(saida_esperada),(10,50),cv2.FONT_HERSHEY_COMPLEX_SMALL,0.8,(0,255,0))\n",
    "\n",
    "    return imagem_original,previsao,saida_esperada,previsao[1]\n",
    "    \n",
    "    "
   ]
  },
  {
   "cell_type": "code",
   "execution_count": null,
   "id": "8b3aae16-1fa6-4508-9d3a-21b04b7be58b",
   "metadata": {},
   "outputs": [],
   "source": []
  },
  {
   "cell_type": "code",
   "execution_count": null,
   "id": "64d124f7-6e16-44ac-8dde-eadfd0308b87",
   "metadata": {},
   "outputs": [],
   "source": []
  },
  {
   "cell_type": "code",
   "execution_count": 8,
   "id": "163efb60-d404-4a97-a610-66f42a730a98",
   "metadata": {},
   "outputs": [],
   "source": [
    "'''\n",
    "TREINA MODELO\n",
    "'''\n",
    "\n",
    "ids, faces = get_image_data()\n",
    "\n",
    "fisher_classifier = cv2.face.FisherFaceRecognizer_create()\n",
    "fisher_classifier.train(faces,ids)\n",
    "\n",
    "fisher_classifier.write(\"fisher.yml\")"
   ]
  },
  {
   "cell_type": "code",
   "execution_count": 10,
   "id": "54be62dd-729b-41c6-b2c5-312fad81d802",
   "metadata": {},
   "outputs": [],
   "source": [
    "'''\n",
    "CARREGA MODELO\n",
    "'''\n",
    "\n"
   ]
  },
  {
   "cell_type": "code",
   "execution_count": 39,
   "id": "99231a9c-255f-4e1c-a4f9-60e83cc7331a",
   "metadata": {},
   "outputs": [
    {
     "name": "stdout",
     "output_type": "stream",
     "text": [
      "0.0\n"
     ]
    }
   ],
   "source": [
    "imagem_teste = 'Materiais\\\\datasets\\\\datasets\\\\Face dataset\\\\test\\\\14-03.jpg'\n",
    "imagem_original,previsao,saida_esperada,confianca = teste_reconhecimento(imagem_teste)\n",
    "\n",
    "cv2.imshow(\"Rosto\",imagem_original)\n",
    "\n",
    "cv2.waitKey(0) \n",
    "cv2.destroyAllWindows() "
   ]
  },
  {
   "cell_type": "code",
   "execution_count": null,
   "id": "20e134dd-237f-45f5-a8d0-078c567b1341",
   "metadata": {},
   "outputs": [],
   "source": []
  },
  {
   "cell_type": "code",
   "execution_count": null,
   "id": "660afce4-7cf8-4b71-9bed-9f5b07bc09d1",
   "metadata": {},
   "outputs": [],
   "source": []
  },
  {
   "cell_type": "code",
   "execution_count": null,
   "id": "cc2ba532-3185-4eee-bc43-cd0172baedf7",
   "metadata": {},
   "outputs": [],
   "source": []
  },
  {
   "cell_type": "code",
   "execution_count": null,
   "id": "e7fa67e4-b767-4813-a485-45f0cf2d0acc",
   "metadata": {},
   "outputs": [],
   "source": []
  },
  {
   "cell_type": "code",
   "execution_count": null,
   "id": "2bce607a-308e-461c-8996-f1a49618d54a",
   "metadata": {},
   "outputs": [],
   "source": []
  },
  {
   "cell_type": "code",
   "execution_count": null,
   "id": "7f66faab-ff85-4560-a8e9-4eb73c7a2239",
   "metadata": {},
   "outputs": [],
   "source": []
  },
  {
   "cell_type": "code",
   "execution_count": null,
   "id": "3ac85456-fa1a-48a0-b1e7-d9814b7b9648",
   "metadata": {},
   "outputs": [],
   "source": []
  },
  {
   "cell_type": "code",
   "execution_count": null,
   "id": "6cac3886-4f49-4354-a1f7-5011dbf05649",
   "metadata": {},
   "outputs": [],
   "source": []
  },
  {
   "cell_type": "code",
   "execution_count": null,
   "id": "ce5e3ba4-ce52-4415-9178-77e1322c7701",
   "metadata": {},
   "outputs": [],
   "source": []
  },
  {
   "cell_type": "code",
   "execution_count": null,
   "id": "7ab9cd07-6237-48ec-8e2f-e89c69b6fd3c",
   "metadata": {},
   "outputs": [],
   "source": []
  },
  {
   "cell_type": "code",
   "execution_count": null,
   "id": "91e81e83-cf08-4496-8ce1-8e9ad1a022f9",
   "metadata": {},
   "outputs": [],
   "source": []
  },
  {
   "cell_type": "code",
   "execution_count": null,
   "id": "e84f24bc-b599-4976-8020-daf2a69ff162",
   "metadata": {},
   "outputs": [],
   "source": []
  },
  {
   "cell_type": "code",
   "execution_count": null,
   "id": "4784564f-03d2-4c97-9cb6-99073886ec67",
   "metadata": {},
   "outputs": [],
   "source": []
  },
  {
   "cell_type": "code",
   "execution_count": null,
   "id": "90f708cd-6239-4d50-9854-9b9870fead94",
   "metadata": {},
   "outputs": [],
   "source": []
  },
  {
   "cell_type": "code",
   "execution_count": null,
   "id": "6daf4076-c3bc-417c-bc36-f4352dc8cfc6",
   "metadata": {},
   "outputs": [],
   "source": []
  },
  {
   "cell_type": "code",
   "execution_count": null,
   "id": "5bc8f5ef-ae40-490d-b459-5aad0ad085f7",
   "metadata": {},
   "outputs": [],
   "source": []
  },
  {
   "cell_type": "code",
   "execution_count": null,
   "id": "ed6c0868-7cda-470e-aaba-61a3fe1c1f6f",
   "metadata": {},
   "outputs": [],
   "source": []
  },
  {
   "cell_type": "code",
   "execution_count": null,
   "id": "a2eb2a12-8b0e-4a7f-ac54-67ca81914df7",
   "metadata": {},
   "outputs": [],
   "source": []
  },
  {
   "cell_type": "code",
   "execution_count": null,
   "id": "7182af74-7997-435e-8f0f-7daa7da713c5",
   "metadata": {},
   "outputs": [],
   "source": []
  },
  {
   "cell_type": "code",
   "execution_count": null,
   "id": "d0f73bbe-2a10-4d05-a329-ffbf36d334c2",
   "metadata": {},
   "outputs": [],
   "source": []
  },
  {
   "cell_type": "code",
   "execution_count": null,
   "id": "d5f85a7d-5040-4bf4-8cef-115c990fe1b4",
   "metadata": {},
   "outputs": [],
   "source": []
  },
  {
   "cell_type": "code",
   "execution_count": null,
   "id": "14aa46fb-1aac-4ae7-a345-2d52c5dd5f0a",
   "metadata": {},
   "outputs": [],
   "source": []
  },
  {
   "cell_type": "code",
   "execution_count": null,
   "id": "d8003b84-03e5-4af0-950f-9bbd0b73f60e",
   "metadata": {},
   "outputs": [],
   "source": []
  },
  {
   "cell_type": "code",
   "execution_count": null,
   "id": "b02bd167-087c-4b4c-bb44-4dc2c7710284",
   "metadata": {},
   "outputs": [],
   "source": []
  },
  {
   "cell_type": "code",
   "execution_count": null,
   "id": "ce4ef7cf-f97e-48b0-bc28-2edcc5b5acec",
   "metadata": {},
   "outputs": [],
   "source": []
  },
  {
   "cell_type": "code",
   "execution_count": null,
   "id": "c0d7d9c5-4573-4b2c-8d45-25cfd279b3ae",
   "metadata": {},
   "outputs": [],
   "source": []
  },
  {
   "cell_type": "code",
   "execution_count": null,
   "id": "b3f285c5-43b3-44ca-a8b0-4cc0dc963ad1",
   "metadata": {},
   "outputs": [],
   "source": []
  }
 ],
 "metadata": {
  "kernelspec": {
   "display_name": "Python 3 (ipykernel)",
   "language": "python",
   "name": "python3"
  },
  "language_info": {
   "codemirror_mode": {
    "name": "ipython",
    "version": 3
   },
   "file_extension": ".py",
   "mimetype": "text/x-python",
   "name": "python",
   "nbconvert_exporter": "python",
   "pygments_lexer": "ipython3",
   "version": "3.12.1"
  }
 },
 "nbformat": 4,
 "nbformat_minor": 5
}
