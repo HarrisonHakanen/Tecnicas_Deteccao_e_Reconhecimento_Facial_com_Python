{
 "cells": [
  {
   "cell_type": "code",
   "execution_count": 1,
   "id": "a95b49b2-3f53-4628-a7af-928059d723b1",
   "metadata": {},
   "outputs": [
    {
     "ename": "SyntaxError",
     "evalue": "invalid syntax (1084943052.py, line 1)",
     "output_type": "error",
     "traceback": [
      "\u001b[1;36m  Cell \u001b[1;32mIn[1], line 1\u001b[1;36m\u001b[0m\n\u001b[1;33m    Quatro técnicas diferentes para detectar faces\u001b[0m\n\u001b[1;37m           ^\u001b[0m\n\u001b[1;31mSyntaxError\u001b[0m\u001b[1;31m:\u001b[0m invalid syntax\n"
     ]
    }
   ],
   "source": [
    "Quatro técnicas diferentes para detectar faces\n",
    "\n",
    "Haar cascade (openCV)\n",
    "HOG+SVM(dlib)\n",
    "MMOD/CNN(dlib)\n",
    "SSD(openCV DNN module)"
   ]
  },
  {
   "cell_type": "code",
   "execution_count": 1,
   "id": "a4a577bb-4779-45aa-96ee-2d3cb9030319",
   "metadata": {},
   "outputs": [],
   "source": [
    "import cv2\n",
    "import numpy as np\n",
    "import os"
   ]
  },
  {
   "cell_type": "code",
   "execution_count": null,
   "id": "a25b10f8-7f5d-4bcd-905b-f5f6eccf763b",
   "metadata": {},
   "outputs": [],
   "source": []
  },
  {
   "cell_type": "code",
   "execution_count": null,
   "id": "80a85568-0724-4e6a-9db5-25baae1cc35f",
   "metadata": {},
   "outputs": [],
   "source": []
  },
  {
   "cell_type": "code",
   "execution_count": 22,
   "id": "57a62f4f-c7aa-43ab-8a88-a9876f799efb",
   "metadata": {},
   "outputs": [
    {
     "name": "stdout",
     "output_type": "stream",
     "text": [
      "(500, 560, 3)\n",
      "(500, 560)\n"
     ]
    },
    {
     "data": {
      "text/plain": [
       "'\\ncv2.imshow(\"Person cinza\",imagem_cinza)\\n\\ncv2.waitKey(0) \\ncv2.destroyAllWindows() \\n'"
      ]
     },
     "execution_count": 22,
     "metadata": {},
     "output_type": "execute_result"
    }
   ],
   "source": [
    "imagem = cv2.imread('Materiais\\\\images\\\\images\\\\person.jpg',cv2.IMREAD_UNCHANGED)\n",
    "print(imagem.shape)\n",
    "\n",
    "#MOSTRA A IMAGEM\n",
    "'''\n",
    "cv2.imshow(\"Person\",imagem)\n",
    "\n",
    "cv2.waitKey(0) \n",
    "cv2.destroyAllWindows() \n",
    "'''\n",
    "\n",
    "imagem_cinza = cv2.cvtColor(imagem,cv2.COLOR_BGR2GRAY)\n",
    "print(imagem_cinza.shape)\n",
    "\n",
    "#MOSTRA A IMAGEM\n",
    "'''\n",
    "cv2.imshow(\"Person cinza\",imagem_cinza)\n",
    "\n",
    "cv2.waitKey(0) \n",
    "cv2.destroyAllWindows() \n",
    "'''"
   ]
  },
  {
   "cell_type": "code",
   "execution_count": null,
   "id": "3513216f-dd20-4e8b-8c79-45c0392dad31",
   "metadata": {},
   "outputs": [],
   "source": []
  },
  {
   "cell_type": "code",
   "execution_count": null,
   "id": "4ed83507-6805-4820-a85c-b789a2320b0e",
   "metadata": {},
   "outputs": [],
   "source": []
  },
  {
   "cell_type": "code",
   "execution_count": 26,
   "id": "0a500e3b-dff1-4ac2-bea7-1b15ed2cd317",
   "metadata": {},
   "outputs": [
    {
     "name": "stdout",
     "output_type": "stream",
     "text": [
      "[[177 123 197 197]]\n",
      "1\n"
     ]
    }
   ],
   "source": [
    "detector_facial = cv2.CascadeClassifier(\"Materiais\\\\cascades\\\\cascades\\\\haarcascade_frontalface_default.xml\")\n",
    "\n",
    "deteccoes = detector_facial.detectMultiScale(imagem_cinza)\n",
    "\n",
    "print(deteccoes)\n",
    "\n",
    "print(len(deteccoes))\n",
    "\n",
    "\n",
    "for(x,y,w,h) in deteccoes:\n",
    "    cv2.rectangle(imagem,(x,y),(x+w,y+h),(0,255,255),2)\n",
    "\n",
    "cv2.imshow(\"Rosto detectado\",imagem)\n",
    "\n",
    "cv2.waitKey(0) \n",
    "cv2.destroyAllWindows() "
   ]
  },
  {
   "cell_type": "code",
   "execution_count": null,
   "id": "9de580bb-d323-4e8c-a8bb-30c2345188de",
   "metadata": {},
   "outputs": [],
   "source": []
  },
  {
   "cell_type": "markdown",
   "id": "5cf2b654-8439-4ed2-afad-95c07b529cff",
   "metadata": {},
   "source": [
    "Redimensionamento de imagem"
   ]
  },
  {
   "cell_type": "code",
   "execution_count": 30,
   "id": "244e3464-23fd-4abf-b07e-ccebd47f5470",
   "metadata": {},
   "outputs": [
    {
     "name": "stdout",
     "output_type": "stream",
     "text": [
      "(1120, 1680, 3)\n",
      "(1120, 1680)\n",
      "[[1298  734   37   37]\n",
      " [1328  608   53   53]\n",
      " [ 956  147  194  194]\n",
      " [ 610   69  192  192]\n",
      " [ 765  472  194  194]\n",
      " [ 328  404  215  215]\n",
      " [ 982  462   27   27]]\n",
      "7\n"
     ]
    }
   ],
   "source": [
    "imagem = cv2.imread('Materiais\\\\images\\\\images\\\\people1.jpg',cv2.IMREAD_UNCHANGED)\n",
    "imagem_cinza = cv2.cvtColor(imagem,cv2.COLOR_BGR2GRAY)\n",
    "\n",
    "print(imagem.shape)\n",
    "print(imagem_cinza.shape)\n",
    "\n",
    "deteccoes = detector_facial.detectMultiScale(imagem_cinza)\n",
    "\n",
    "print(deteccoes)\n",
    "\n",
    "print(len(deteccoes))\n",
    "\n",
    "for(x,y,w,h) in deteccoes:\n",
    "    cv2.rectangle(imagem,(x,y),(x+w,y+h),(0,255,255),2)\n",
    "\n",
    "cv2.imshow(\"Rosto detectado\",imagem)\n",
    "\n",
    "cv2.waitKey(0) \n",
    "cv2.destroyAllWindows() "
   ]
  },
  {
   "cell_type": "code",
   "execution_count": 33,
   "id": "36e1a5af-d8f1-4bf7-b7cc-2a73f491c8ef",
   "metadata": {},
   "outputs": [
    {
     "name": "stdout",
     "output_type": "stream",
     "text": [
      "(480, 600, 3)\n"
     ]
    }
   ],
   "source": [
    "'''\n",
    "REDIMENSIONAMENTO MANUAL\n",
    "'''\n",
    "\n",
    "imagem = cv2.imread('Materiais\\\\images\\\\images\\\\people1.jpg',cv2.IMREAD_UNCHANGED)\n",
    "\n",
    "imagem_redimensionada = cv2.resize(imagem,(600,480))\n",
    "print(imagem_redimensionada.shape)"
   ]
  },
  {
   "cell_type": "code",
   "execution_count": 34,
   "id": "f2986c2f-2ba1-41dd-86dc-23f1f8d9ca16",
   "metadata": {},
   "outputs": [
    {
     "name": "stdout",
     "output_type": "stream",
     "text": [
      "(400, 600, 3)\n"
     ]
    }
   ],
   "source": [
    "'''\n",
    "REDIMENSIONAMENTO MANUAL POR PROPORÇÃO\n",
    "'''\n",
    "\n",
    "nova_largura = 600\n",
    "proporcao = 1680 / 1120\n",
    "nova_altura = nova_largura / proporcao\n",
    "\n",
    "imagem = cv2.imread('Materiais\\\\images\\\\images\\\\people1.jpg',cv2.IMREAD_UNCHANGED)\n",
    "\n",
    "imagem_redimensionada = cv2.resize(imagem,(int(nova_largura),int(nova_altura)))\n",
    "print(imagem_redimensionada.shape)\n"
   ]
  },
  {
   "cell_type": "code",
   "execution_count": 46,
   "id": "8ee8fe77-bbd5-4363-b4d2-9fb35840444a",
   "metadata": {},
   "outputs": [
    {
     "name": "stdout",
     "output_type": "stream",
     "text": [
      "(560, 840, 3)\n",
      "[[477  73  97  97]\n",
      " [386 241  88  88]\n",
      " [161 200 113 113]\n",
      " [305  35  96  96]]\n",
      "4\n"
     ]
    }
   ],
   "source": [
    "'''\n",
    "REDIMENSIONAMENTO POR ESCALA\n",
    "'''\n",
    "\n",
    "imagem = cv2.imread('Materiais\\\\images\\\\images\\\\people1.jpg',cv2.IMREAD_UNCHANGED)\n",
    "\n",
    "imagem_redimensionada = cv2.resize(imagem,None,fx=0.5,fy=0.5)\n",
    "print(imagem_redimensionada.shape)\n",
    "\n",
    "imagem_cinza = cv2.cvtColor(imagem_redimensionada,cv2.COLOR_BGR2GRAY)\n",
    "\n",
    "deteccoes = detector_facial.detectMultiScale(imagem_cinza)\n",
    "\n",
    "print(deteccoes)\n",
    "\n",
    "print(len(deteccoes))\n",
    "\n",
    "for(x,y,w,h) in deteccoes:\n",
    "    cv2.rectangle(imagem_redimensionada,(x,y),(x+w,y+h),(0,255,255),2)\n",
    "\n",
    "cv2.imshow(\"Rosto detectado\",imagem_redimensionada)\n",
    "\n",
    "cv2.waitKey(0) \n",
    "cv2.destroyAllWindows() "
   ]
  },
  {
   "cell_type": "markdown",
   "id": "ac3e4090-17b2-4166-b2a3-9f186696b2ea",
   "metadata": {},
   "source": [
    "Parâmetros haarcascate"
   ]
  },
  {
   "cell_type": "code",
   "execution_count": 10,
   "id": "7339b294-03da-49a1-ba30-317121e7bce1",
   "metadata": {},
   "outputs": [],
   "source": [
    "'''\n",
    "SCALE FACTOR\n",
    "'''\n",
    "imagem = cv2.imread('Materiais\\\\images\\\\images\\\\people2.jpg',cv2.IMREAD_UNCHANGED)\n",
    "imagem_cinza = cv2.cvtColor(imagem,cv2.COLOR_BGR2GRAY)\n",
    "\n",
    "\n",
    "detector_facial = cv2.CascadeClassifier(\"Materiais\\\\cascades\\\\cascades\\\\haarcascade_frontalface_default.xml\")\n",
    "deteccoes = detector_facial.detectMultiScale(imagem_cinza,scaleFactor=1.2)\n",
    "\n",
    "\n",
    "for (x,y,w,h) in deteccoes:\n",
    "    cv2.rectangle(imagem,(x,y),(x+w,y+h),(0,0,255),2)\n",
    "\n",
    "cv2.imshow(\"Detecção o SCALE FACTOR\",imagem)\n",
    "\n",
    "cv2.waitKey(0) \n",
    "cv2.destroyAllWindows() "
   ]
  },
  {
   "cell_type": "code",
   "execution_count": 30,
   "id": "596cd1a9-3a4a-4264-ba66-a2314dec9cfd",
   "metadata": {},
   "outputs": [],
   "source": [
    "'''\n",
    "MIN NEIGHBORS\n",
    "SCALE FACTOR\n",
    "'''\n",
    "\n",
    "imagem = cv2.imread('Materiais\\\\images\\\\images\\\\people2.jpg',cv2.IMREAD_UNCHANGED)\n",
    "\n",
    "imagem_cinza = cv2.cvtColor(imagem,cv2.COLOR_BGR2GRAY)\n",
    "\n",
    "\n",
    "detector_facial = cv2.CascadeClassifier(\"Materiais\\\\cascades\\\\cascades\\\\haarcascade_frontalface_default.xml\")\n",
    "deteccoes = detector_facial.detectMultiScale(imagem_cinza,minNeighbors = 7,scaleFactor=1.1)\n",
    "\n",
    "\n",
    "for (x,y,w,h) in deteccoes:\n",
    "    cv2.rectangle(imagem,(x,y),(x+w,y+h),(0,0,255),2)\n",
    "\n",
    "cv2.imshow(\"Detecção utilizando o MIN NEIGHBORS e o SCALE FACTOR\",imagem)\n",
    "\n",
    "cv2.waitKey(0) \n",
    "cv2.destroyAllWindows() \n"
   ]
  },
  {
   "cell_type": "code",
   "execution_count": null,
   "id": "a642a1f2-a19f-4ef1-8efe-886f97c57250",
   "metadata": {},
   "outputs": [],
   "source": []
  },
  {
   "cell_type": "code",
   "execution_count": 28,
   "id": "09b05262-a049-4f4e-813f-4988d387345c",
   "metadata": {},
   "outputs": [],
   "source": [
    "'''\n",
    "MIN SIZE\n",
    "'''\n",
    "\n",
    "imagem = cv2.imread('Materiais\\\\images\\\\images\\\\people3.jpg',cv2.IMREAD_UNCHANGED)\n",
    "imagem_cinza = cv2.cvtColor(imagem,cv2.COLOR_BGR2GRAY)\n",
    "\n",
    "\n",
    "detector_facial = cv2.CascadeClassifier(\"Materiais\\\\cascades\\\\cascades\\\\haarcascade_frontalface_default.xml\")\n",
    "deteccoes = detector_facial.detectMultiScale(imagem_cinza,scaleFactor = 1.1,minSize=(50,50),minNeighbors=1)\n",
    "\n",
    "\n",
    "for (x,y,w,h) in deteccoes:\n",
    "    cv2.rectangle(imagem,(x,y),(x+w,y+h),(0,255,255),2)\n",
    "\n",
    "cv2.imshow(\"Detecção utilizando o MIN SIZE\",imagem)\n",
    "\n",
    "cv2.waitKey(0) \n",
    "cv2.destroyAllWindows() "
   ]
  },
  {
   "cell_type": "code",
   "execution_count": null,
   "id": "902319d9-18da-48a5-b036-eeb26f84e222",
   "metadata": {},
   "outputs": [],
   "source": [
    "Detecção de olhos"
   ]
  },
  {
   "cell_type": "code",
   "execution_count": 39,
   "id": "37343130-5401-4f22-be8e-7dbcc8c49b42",
   "metadata": {},
   "outputs": [],
   "source": [
    "detector_olhos = cv2.CascadeClassifier(\"Materiais\\\\cascades\\\\cascades\\\\haarcascade_eye.xml\")\n",
    "\n",
    "\n",
    "imagem = cv2.imread('Materiais\\\\images\\\\images\\\\eyes.jpg',cv2.IMREAD_UNCHANGED)\n",
    "imagem_cinza = cv2.cvtColor(imagem,cv2.COLOR_BGR2GRAY)\n",
    "\n",
    "deteccoes = detector_olhos.detectMultiScale(imagem_cinza)\n",
    "\n",
    "\n",
    "for (x,y,w,h) in deteccoes:\n",
    "    cv2.rectangle(imagem,(x,y),(x+w,y+h),(0,255,255),2)\n",
    "\n",
    "cv2.imshow(\"Detecção de olhos\",imagem)\n",
    "\n",
    "cv2.waitKey(0) \n",
    "cv2.destroyAllWindows() "
   ]
  },
  {
   "cell_type": "code",
   "execution_count": 51,
   "id": "5eba2d80-8d34-40ac-abcc-95685bee81a8",
   "metadata": {},
   "outputs": [],
   "source": [
    "imagem = cv2.imread('Materiais\\\\images\\\\images\\\\person.jpg',cv2.IMREAD_UNCHANGED)\n",
    "imagem_cinza = cv2.cvtColor(imagem,cv2.COLOR_BGR2GRAY)\n",
    "\n",
    "detector_facial = cv2.CascadeClassifier(\"Materiais\\\\cascades\\\\cascades\\\\haarcascade_frontalface_default.xml\")\n",
    "deteccoes_face = detector_facial.detectMultiScale(imagem_cinza)\n",
    "\n",
    "\n",
    "for (x,y,w,h) in deteccoes_face:\n",
    "    cv2.rectangle(imagem,(x,y),(x+w,y+h),(0,255,255),2)\n",
    "\n",
    "\n",
    "detector_olhos = cv2.CascadeClassifier(\"Materiais\\\\cascades\\\\cascades\\\\haarcascade_eye.xml\")\n",
    "deteccoes_olhos = detector_olhos.detectMultiScale(imagem_cinza,minNeighbors = 25,scaleFactor = 1.1)\n",
    "\n",
    "\n",
    "for (x,y,w,h) in deteccoes_olhos:\n",
    "    cv2.rectangle(imagem,(x,y),(x+w,y+h),(0,255,255),2)\n",
    "\n",
    "cv2.imshow(\"Detecção de rosto e dos olhos\",imagem)\n",
    "\n",
    "cv2.waitKey(0) \n",
    "cv2.destroyAllWindows() "
   ]
  },
  {
   "cell_type": "code",
   "execution_count": null,
   "id": "15fbab3b-3d57-473c-a51c-3f77b7ce7839",
   "metadata": {},
   "outputs": [],
   "source": []
  },
  {
   "cell_type": "code",
   "execution_count": null,
   "id": "98aed4ab-d850-4862-870d-eb4a365a3f93",
   "metadata": {},
   "outputs": [],
   "source": []
  },
  {
   "cell_type": "code",
   "execution_count": null,
   "id": "0cd8610b-d169-4a84-a1be-850c39b2995f",
   "metadata": {},
   "outputs": [],
   "source": []
  },
  {
   "cell_type": "code",
   "execution_count": null,
   "id": "4878f2f7-897b-42f9-a17f-4bdc47fadfb4",
   "metadata": {},
   "outputs": [],
   "source": []
  },
  {
   "cell_type": "code",
   "execution_count": null,
   "id": "8a26ce8c-e0f0-4f73-85b9-0225412a5930",
   "metadata": {},
   "outputs": [],
   "source": []
  },
  {
   "cell_type": "code",
   "execution_count": null,
   "id": "670b6418-aca5-4545-b41b-e938596e1d0e",
   "metadata": {},
   "outputs": [],
   "source": []
  },
  {
   "cell_type": "code",
   "execution_count": null,
   "id": "7a3a6832-2b6d-4f46-b658-41f76b142d3e",
   "metadata": {},
   "outputs": [],
   "source": []
  },
  {
   "cell_type": "code",
   "execution_count": null,
   "id": "21b5d16b-26ec-4297-b4a9-1218bbc5cc98",
   "metadata": {},
   "outputs": [],
   "source": []
  },
  {
   "cell_type": "code",
   "execution_count": null,
   "id": "7aa40322-ada2-455c-b070-30d66c31afbc",
   "metadata": {},
   "outputs": [],
   "source": []
  },
  {
   "cell_type": "code",
   "execution_count": null,
   "id": "7038b280-1bbf-4144-a3e7-013c16024832",
   "metadata": {},
   "outputs": [],
   "source": []
  },
  {
   "cell_type": "code",
   "execution_count": null,
   "id": "2e30a47f-037b-4585-bfae-c1a2fd9052bb",
   "metadata": {},
   "outputs": [],
   "source": []
  },
  {
   "cell_type": "code",
   "execution_count": null,
   "id": "ab720946-78cc-4508-9688-62c815cce31b",
   "metadata": {},
   "outputs": [],
   "source": []
  },
  {
   "cell_type": "code",
   "execution_count": null,
   "id": "aa5b733a-8660-4963-bd8a-abb8ae827e7f",
   "metadata": {},
   "outputs": [],
   "source": []
  },
  {
   "cell_type": "code",
   "execution_count": null,
   "id": "bbccb3e9-5175-4b31-bfd4-08b6abb8c3e4",
   "metadata": {},
   "outputs": [],
   "source": []
  },
  {
   "cell_type": "code",
   "execution_count": null,
   "id": "0b51172e-21b7-467a-a198-921ea7fd29d9",
   "metadata": {},
   "outputs": [],
   "source": []
  },
  {
   "cell_type": "code",
   "execution_count": null,
   "id": "3196efd1-7445-4318-a258-be5a3f0c4442",
   "metadata": {},
   "outputs": [],
   "source": []
  },
  {
   "cell_type": "code",
   "execution_count": null,
   "id": "ce6e4cdd-bc5b-4e1b-aa06-4f8ec03d6ce9",
   "metadata": {},
   "outputs": [],
   "source": []
  },
  {
   "cell_type": "code",
   "execution_count": null,
   "id": "1b85ebe8-2fd8-4dd0-a416-480d5640480f",
   "metadata": {},
   "outputs": [],
   "source": []
  },
  {
   "cell_type": "code",
   "execution_count": null,
   "id": "11702c29-3cbc-46f1-a7a5-520a72860b7d",
   "metadata": {},
   "outputs": [],
   "source": []
  },
  {
   "cell_type": "code",
   "execution_count": null,
   "id": "6ec29d53-54a8-4c14-8b25-120a1b99b2e8",
   "metadata": {},
   "outputs": [],
   "source": []
  },
  {
   "cell_type": "code",
   "execution_count": null,
   "id": "4f9a447a-b4e7-470d-824e-c710222ab60b",
   "metadata": {},
   "outputs": [],
   "source": []
  },
  {
   "cell_type": "code",
   "execution_count": null,
   "id": "5abffe25-90d1-48bb-8bdf-b14a2d42f0d8",
   "metadata": {},
   "outputs": [],
   "source": []
  },
  {
   "cell_type": "code",
   "execution_count": null,
   "id": "8588943c-43e6-4235-972b-a67aba8d776b",
   "metadata": {},
   "outputs": [],
   "source": []
  },
  {
   "cell_type": "code",
   "execution_count": null,
   "id": "0abb6827-f8de-484b-8343-0a4277eb44ae",
   "metadata": {},
   "outputs": [],
   "source": []
  },
  {
   "cell_type": "code",
   "execution_count": null,
   "id": "efa6bdf5-a43f-43a5-b966-3a2db0d0e4e3",
   "metadata": {},
   "outputs": [],
   "source": []
  },
  {
   "cell_type": "code",
   "execution_count": null,
   "id": "a8757418-5e22-4158-bbfe-2bcfdef6a455",
   "metadata": {},
   "outputs": [],
   "source": []
  },
  {
   "cell_type": "code",
   "execution_count": null,
   "id": "7be24d6f-e04a-485b-bb4c-cc54e3c5fd9b",
   "metadata": {},
   "outputs": [],
   "source": []
  },
  {
   "cell_type": "code",
   "execution_count": null,
   "id": "e30e7abc-5693-4683-aabe-0b7e735dc3f9",
   "metadata": {},
   "outputs": [],
   "source": []
  },
  {
   "cell_type": "code",
   "execution_count": null,
   "id": "2539d089-9a42-4d84-b9f4-23616717ce85",
   "metadata": {},
   "outputs": [],
   "source": []
  },
  {
   "cell_type": "code",
   "execution_count": null,
   "id": "21457fac-04f3-41c6-82cd-82d3e599b66d",
   "metadata": {},
   "outputs": [],
   "source": []
  },
  {
   "cell_type": "code",
   "execution_count": null,
   "id": "06a4090f-0555-4ef4-9416-9f020880047c",
   "metadata": {},
   "outputs": [],
   "source": []
  },
  {
   "cell_type": "code",
   "execution_count": null,
   "id": "5c1c56b4-b574-4281-9989-37ef79736b1a",
   "metadata": {},
   "outputs": [],
   "source": []
  },
  {
   "cell_type": "code",
   "execution_count": null,
   "id": "1f972b3a-4491-4ee7-86ca-bb6acfb957ac",
   "metadata": {},
   "outputs": [],
   "source": []
  },
  {
   "cell_type": "code",
   "execution_count": null,
   "id": "b13c6f0f-0db2-4266-b82c-ca86b89b8ee8",
   "metadata": {},
   "outputs": [],
   "source": []
  },
  {
   "cell_type": "code",
   "execution_count": null,
   "id": "5720061c-4e4b-493a-b9f6-2cda337831f1",
   "metadata": {},
   "outputs": [],
   "source": []
  },
  {
   "cell_type": "code",
   "execution_count": null,
   "id": "c4946bd3-a0be-400e-835a-1cd195774bfe",
   "metadata": {},
   "outputs": [],
   "source": []
  },
  {
   "cell_type": "code",
   "execution_count": null,
   "id": "6ed4eda3-7fa4-4035-baa1-5c18c5b00bde",
   "metadata": {},
   "outputs": [],
   "source": []
  },
  {
   "cell_type": "code",
   "execution_count": null,
   "id": "fddb0088-a09c-4e1e-9ce8-39cc728abe76",
   "metadata": {},
   "outputs": [],
   "source": []
  },
  {
   "cell_type": "code",
   "execution_count": null,
   "id": "a38b7250-bc0d-470e-8e93-18805fc54f2e",
   "metadata": {},
   "outputs": [],
   "source": []
  },
  {
   "cell_type": "code",
   "execution_count": null,
   "id": "fd899354-9315-446c-8c0d-bac52f502791",
   "metadata": {},
   "outputs": [],
   "source": []
  },
  {
   "cell_type": "code",
   "execution_count": null,
   "id": "b7ae0159-cc51-4360-838a-7dbc3e70d904",
   "metadata": {},
   "outputs": [],
   "source": []
  },
  {
   "cell_type": "code",
   "execution_count": null,
   "id": "0b8fb3cf-f5f9-435e-a562-7f749c67be9f",
   "metadata": {},
   "outputs": [],
   "source": []
  },
  {
   "cell_type": "code",
   "execution_count": null,
   "id": "cb5c372d-7430-4928-a33e-5c6d85886ee9",
   "metadata": {},
   "outputs": [],
   "source": []
  },
  {
   "cell_type": "code",
   "execution_count": null,
   "id": "039700d6-8737-44d7-bf66-a7a82745b9be",
   "metadata": {},
   "outputs": [],
   "source": []
  },
  {
   "cell_type": "code",
   "execution_count": null,
   "id": "50e02100-6c11-4bfe-aa54-10bef1c74ca8",
   "metadata": {},
   "outputs": [],
   "source": []
  },
  {
   "cell_type": "code",
   "execution_count": null,
   "id": "fb4db943-c405-47d6-a730-4ddb622dd0ea",
   "metadata": {},
   "outputs": [],
   "source": []
  },
  {
   "cell_type": "code",
   "execution_count": null,
   "id": "15ff6f10-5365-4623-a6db-284bf8166463",
   "metadata": {},
   "outputs": [],
   "source": []
  },
  {
   "cell_type": "code",
   "execution_count": null,
   "id": "21b6d748-4fb1-4b6d-9700-eec52ed4d3e4",
   "metadata": {},
   "outputs": [],
   "source": []
  },
  {
   "cell_type": "code",
   "execution_count": null,
   "id": "75c9dc41-f029-40bf-b22f-4d7eada129c7",
   "metadata": {},
   "outputs": [],
   "source": []
  },
  {
   "cell_type": "code",
   "execution_count": null,
   "id": "8d285410-98b5-4e55-8a42-8285260defb2",
   "metadata": {},
   "outputs": [],
   "source": []
  },
  {
   "cell_type": "code",
   "execution_count": null,
   "id": "20f4bb90-cc5a-4ecf-b952-c34eae8e2f91",
   "metadata": {},
   "outputs": [],
   "source": []
  },
  {
   "cell_type": "code",
   "execution_count": null,
   "id": "10d5a2dc-b3f3-4091-8c27-e728f9f14e30",
   "metadata": {},
   "outputs": [],
   "source": []
  },
  {
   "cell_type": "code",
   "execution_count": null,
   "id": "d9dc1407-13c5-4126-a48f-42015a70a41e",
   "metadata": {},
   "outputs": [],
   "source": []
  },
  {
   "cell_type": "code",
   "execution_count": null,
   "id": "01e5ed43-69b9-4b8c-acef-97f4f2b4a68e",
   "metadata": {},
   "outputs": [],
   "source": []
  },
  {
   "cell_type": "code",
   "execution_count": null,
   "id": "3b4976cc-5b18-4917-9743-9d2b285cbf03",
   "metadata": {},
   "outputs": [],
   "source": []
  },
  {
   "cell_type": "code",
   "execution_count": null,
   "id": "b3fe2af5-d849-4184-8d90-cee9778bdaac",
   "metadata": {},
   "outputs": [],
   "source": []
  },
  {
   "cell_type": "code",
   "execution_count": null,
   "id": "0a35b6e6-6215-49fe-8815-acb94a9afcc3",
   "metadata": {},
   "outputs": [],
   "source": []
  },
  {
   "cell_type": "code",
   "execution_count": null,
   "id": "dd54a155-173a-4266-a7e3-52e8e99467cf",
   "metadata": {},
   "outputs": [],
   "source": []
  },
  {
   "cell_type": "code",
   "execution_count": null,
   "id": "cb350b53-a21f-407b-8dd6-0b75a1848615",
   "metadata": {},
   "outputs": [],
   "source": []
  },
  {
   "cell_type": "code",
   "execution_count": null,
   "id": "6a660fb7-74bf-4826-9138-a111791d026e",
   "metadata": {},
   "outputs": [],
   "source": []
  },
  {
   "cell_type": "code",
   "execution_count": null,
   "id": "ab009c31-fa03-4822-8fc7-d89bc501fd71",
   "metadata": {},
   "outputs": [],
   "source": []
  },
  {
   "cell_type": "code",
   "execution_count": null,
   "id": "21d95bb5-8338-4010-bf09-0549451ddb3c",
   "metadata": {},
   "outputs": [],
   "source": []
  },
  {
   "cell_type": "code",
   "execution_count": 25,
   "id": "20eb21c0-2ccf-4b7a-8d2e-5d027fc4b003",
   "metadata": {},
   "outputs": [],
   "source": []
  },
  {
   "cell_type": "code",
   "execution_count": null,
   "id": "46f19d74-ad73-4946-b6bc-b3f476456baa",
   "metadata": {},
   "outputs": [],
   "source": []
  },
  {
   "cell_type": "code",
   "execution_count": null,
   "id": "e830bac4-41e1-46f9-b507-d675728d72cd",
   "metadata": {},
   "outputs": [],
   "source": []
  },
  {
   "cell_type": "code",
   "execution_count": null,
   "id": "e7caa7d3-3548-4eb3-a1fb-7ede1ee3c184",
   "metadata": {},
   "outputs": [],
   "source": []
  },
  {
   "cell_type": "code",
   "execution_count": null,
   "id": "341218c2-d8ce-4e41-bfde-f489d55ae6ce",
   "metadata": {},
   "outputs": [],
   "source": []
  },
  {
   "cell_type": "code",
   "execution_count": null,
   "id": "8fd2c63e-2785-4611-97df-d7f8ccb94b54",
   "metadata": {},
   "outputs": [],
   "source": []
  },
  {
   "cell_type": "code",
   "execution_count": null,
   "id": "7f847a6b-84a5-4338-b363-261019229494",
   "metadata": {},
   "outputs": [],
   "source": []
  }
 ],
 "metadata": {
  "kernelspec": {
   "display_name": "Python 3 (ipykernel)",
   "language": "python",
   "name": "python3"
  },
  "language_info": {
   "codemirror_mode": {
    "name": "ipython",
    "version": 3
   },
   "file_extension": ".py",
   "mimetype": "text/x-python",
   "name": "python",
   "nbconvert_exporter": "python",
   "pygments_lexer": "ipython3",
   "version": "3.11.5"
  }
 },
 "nbformat": 4,
 "nbformat_minor": 5
}
